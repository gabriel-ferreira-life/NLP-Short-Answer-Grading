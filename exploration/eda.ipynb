{
 "cells": [
  {
   "cell_type": "markdown",
   "metadata": {},
   "source": [
    "## Libraries"
   ]
  },
  {
   "cell_type": "code",
   "execution_count": 2,
   "metadata": {},
   "outputs": [],
   "source": [
    "import json\n",
    "import pandas as pd\n",
    "import numpy as np\n",
    "import os"
   ]
  },
  {
   "cell_type": "markdown",
   "metadata": {},
   "source": [
    "## Config"
   ]
  },
  {
   "cell_type": "code",
   "execution_count": 3,
   "metadata": {},
   "outputs": [],
   "source": [
    "# Load the config file\n",
    "with open('../config/config.json', 'r') as f:\n",
    "    config = json.load(f)\n",
    "\n",
    "file_path = config[\"data_loc\"]"
   ]
  },
  {
   "cell_type": "markdown",
   "metadata": {},
   "source": [
    " ## Datasets"
   ]
  },
  {
   "cell_type": "markdown",
   "metadata": {},
   "source": [
    "### Inference batch"
   ]
  },
  {
   "cell_type": "code",
   "execution_count": 9,
   "metadata": {},
   "outputs": [
    {
     "name": "stdout",
     "output_type": "stream",
     "text": [
      "The test set has 30,466 observations and 7 columns.\n"
     ]
    },
    {
     "data": {
      "text/html": [
       "<div>\n",
       "<style scoped>\n",
       "    .dataframe tbody tr th:only-of-type {\n",
       "        vertical-align: middle;\n",
       "    }\n",
       "\n",
       "    .dataframe tbody tr th {\n",
       "        vertical-align: top;\n",
       "    }\n",
       "\n",
       "    .dataframe thead th {\n",
       "        text-align: right;\n",
       "    }\n",
       "</style>\n",
       "<table border=\"1\" class=\"dataframe\">\n",
       "  <thead>\n",
       "    <tr style=\"text-align: right;\">\n",
       "      <th></th>\n",
       "      <th>Experiment</th>\n",
       "      <th>Topic</th>\n",
       "      <th>ID</th>\n",
       "      <th>Question</th>\n",
       "      <th>Response</th>\n",
       "      <th>CorrectAnswer</th>\n",
       "      <th>label</th>\n",
       "    </tr>\n",
       "  </thead>\n",
       "  <tbody>\n",
       "    <tr>\n",
       "      <th>0</th>\n",
       "      <td>6</td>\n",
       "      <td>Statistics</td>\n",
       "      <td>6263701</td>\n",
       "      <td>What kind of bias can arise if the researcher ...</td>\n",
       "      <td>response bias from a leading question</td>\n",
       "      <td>Response bias</td>\n",
       "      <td>1</td>\n",
       "    </tr>\n",
       "    <tr>\n",
       "      <th>1</th>\n",
       "      <td>6</td>\n",
       "      <td>Statistics</td>\n",
       "      <td>6263701</td>\n",
       "      <td>What kind of bias can be produced by participa...</td>\n",
       "      <td>refusal bias</td>\n",
       "      <td>Nonresponse bias</td>\n",
       "      <td>-1</td>\n",
       "    </tr>\n",
       "    <tr>\n",
       "      <th>2</th>\n",
       "      <td>6</td>\n",
       "      <td>Statistics</td>\n",
       "      <td>6263701</td>\n",
       "      <td>Over- or under-representation of some groups i...</td>\n",
       "      <td>sample bias</td>\n",
       "      <td>Selection bias</td>\n",
       "      <td>-1</td>\n",
       "    </tr>\n",
       "    <tr>\n",
       "      <th>3</th>\n",
       "      <td>6</td>\n",
       "      <td>Statistics</td>\n",
       "      <td>6263701</td>\n",
       "      <td>A sample is unbiased if it is ___________ of t...</td>\n",
       "      <td>representative</td>\n",
       "      <td>Representative</td>\n",
       "      <td>1</td>\n",
       "    </tr>\n",
       "    <tr>\n",
       "      <th>4</th>\n",
       "      <td>6</td>\n",
       "      <td>Physics</td>\n",
       "      <td>6264278</td>\n",
       "      <td>In 2014, where did the US Navy test a Laser We...</td>\n",
       "      <td>space</td>\n",
       "      <td>The Persian Gulf</td>\n",
       "      <td>-1</td>\n",
       "    </tr>\n",
       "  </tbody>\n",
       "</table>\n",
       "</div>"
      ],
      "text/plain": [
       "   Experiment       Topic       ID  \\\n",
       "0           6  Statistics  6263701   \n",
       "1           6  Statistics  6263701   \n",
       "2           6  Statistics  6263701   \n",
       "3           6  Statistics  6263701   \n",
       "4           6     Physics  6264278   \n",
       "\n",
       "                                            Question  \\\n",
       "0  What kind of bias can arise if the researcher ...   \n",
       "1  What kind of bias can be produced by participa...   \n",
       "2  Over- or under-representation of some groups i...   \n",
       "3  A sample is unbiased if it is ___________ of t...   \n",
       "4  In 2014, where did the US Navy test a Laser We...   \n",
       "\n",
       "                                Response     CorrectAnswer  label  \n",
       "0  response bias from a leading question     Response bias      1  \n",
       "1                           refusal bias  Nonresponse bias     -1  \n",
       "2                            sample bias    Selection bias     -1  \n",
       "3                         representative    Representative      1  \n",
       "4                                  space  The Persian Gulf     -1  "
      ]
     },
     "execution_count": 9,
     "metadata": {},
     "output_type": "execute_result"
    }
   ],
   "source": [
    "# Define file path\n",
    "file_name = \"test.csv\"\n",
    "final_path = os.path.join(file_path, file_name) \n",
    "\n",
    "# Load tsv file\n",
    "test_df = pd.read_csv(final_path, encoding='windows-1252')\n",
    "print(f\"The test set has {test_df.shape[0]:,} observations and {test_df.shape[1]:,} columns.\")\n",
    "test_df.head()"
   ]
  },
  {
   "cell_type": "markdown",
   "metadata": {},
   "source": [
    "### Training Corpus"
   ]
  },
  {
   "cell_type": "code",
   "execution_count": null,
   "metadata": {},
   "outputs": [],
   "source": [
    "# from langchain_ollama.llms import OllamaLLM\n",
    "# from langchain_core.prompts import ChatPromptTemplate"
   ]
  },
  {
   "cell_type": "code",
   "execution_count": null,
   "metadata": {},
   "outputs": [
    {
     "name": "stdout",
     "output_type": "stream",
     "text": [
      "Shape of the train set is 2,250 oservations and 7 columns.\n",
      "\n"
     ]
    },
    {
     "data": {
      "text/html": [
       "<div>\n",
       "<style scoped>\n",
       "    .dataframe tbody tr th:only-of-type {\n",
       "        vertical-align: middle;\n",
       "    }\n",
       "\n",
       "    .dataframe tbody tr th {\n",
       "        vertical-align: top;\n",
       "    }\n",
       "\n",
       "    .dataframe thead th {\n",
       "        text-align: right;\n",
       "    }\n",
       "</style>\n",
       "<table border=\"1\" class=\"dataframe\">\n",
       "  <thead>\n",
       "    <tr style=\"text-align: right;\">\n",
       "      <th></th>\n",
       "      <th>Experiment</th>\n",
       "      <th>Topic</th>\n",
       "      <th>ID</th>\n",
       "      <th>Question</th>\n",
       "      <th>Response</th>\n",
       "      <th>CorrectAnswer</th>\n",
       "      <th>label</th>\n",
       "    </tr>\n",
       "  </thead>\n",
       "  <tbody>\n",
       "    <tr>\n",
       "      <th>0</th>\n",
       "      <td>1</td>\n",
       "      <td>Physics</td>\n",
       "      <td>104</td>\n",
       "      <td>How thin can a fiber optic be?</td>\n",
       "      <td>a strand of hair</td>\n",
       "      <td>As thin as a human hair</td>\n",
       "      <td>1</td>\n",
       "    </tr>\n",
       "    <tr>\n",
       "      <th>1</th>\n",
       "      <td>1</td>\n",
       "      <td>Physics</td>\n",
       "      <td>126</td>\n",
       "      <td>How thin can a fiber optic be?</td>\n",
       "      <td>Really thin and small</td>\n",
       "      <td>As thin as a human hair</td>\n",
       "      <td>-1</td>\n",
       "    </tr>\n",
       "    <tr>\n",
       "      <th>2</th>\n",
       "      <td>1</td>\n",
       "      <td>Physics</td>\n",
       "      <td>130</td>\n",
       "      <td>How thin can a fiber optic be?</td>\n",
       "      <td>as thin as a human hair</td>\n",
       "      <td>As thin as a human hair</td>\n",
       "      <td>1</td>\n",
       "    </tr>\n",
       "    <tr>\n",
       "      <th>3</th>\n",
       "      <td>1</td>\n",
       "      <td>Physics</td>\n",
       "      <td>131</td>\n",
       "      <td>How thin can a fiber optic be?</td>\n",
       "      <td>Very thin smaller than a pice of hair</td>\n",
       "      <td>As thin as a human hair</td>\n",
       "      <td>1</td>\n",
       "    </tr>\n",
       "    <tr>\n",
       "      <th>4</th>\n",
       "      <td>1</td>\n",
       "      <td>Physics</td>\n",
       "      <td>156</td>\n",
       "      <td>How thin can a fiber optic be?</td>\n",
       "      <td>Less than the width of a human hair</td>\n",
       "      <td>As thin as a human hair</td>\n",
       "      <td>1</td>\n",
       "    </tr>\n",
       "  </tbody>\n",
       "</table>\n",
       "</div>"
      ],
      "text/plain": [
       "   Experiment    Topic   ID                        Question  \\\n",
       "0           1  Physics  104  How thin can a fiber optic be?   \n",
       "1           1  Physics  126  How thin can a fiber optic be?   \n",
       "2           1  Physics  130  How thin can a fiber optic be?   \n",
       "3           1  Physics  131  How thin can a fiber optic be?   \n",
       "4           1  Physics  156  How thin can a fiber optic be?   \n",
       "\n",
       "                                 Response            CorrectAnswer  label  \n",
       "0                        a strand of hair  As thin as a human hair      1  \n",
       "1                  Really thin and small   As thin as a human hair     -1  \n",
       "2                 as thin as a human hair  As thin as a human hair      1  \n",
       "3  Very thin smaller than a pice of hair   As thin as a human hair      1  \n",
       "4     Less than the width of a human hair  As thin as a human hair      1  "
      ]
     },
     "execution_count": 30,
     "metadata": {},
     "output_type": "execute_result"
    }
   ],
   "source": [
    "# Define file path\n",
    "file_name = \"train.csv\"\n",
    "final_path = os.path.join(file_path, file_name) \n",
    "\n",
    "# Load json file\n",
    "df = pd.read_csv(final_path, encoding='windows-1252')\n",
    "print(\"Shape of the train set is {:,} oservations and {} columns.\\n\".format(df.shape[0], df.shape[1]))\n",
    "df.head()"
   ]
  },
  {
   "cell_type": "markdown",
   "metadata": {},
   "source": [
    "## Exploratory Analysis"
   ]
  },
  {
   "cell_type": "code",
   "execution_count": 21,
   "metadata": {},
   "outputs": [
    {
     "data": {
      "text/plain": [
       "1"
      ]
     },
     "execution_count": 21,
     "metadata": {},
     "output_type": "execute_result"
    }
   ],
   "source": [
    "len(df['Experiment'].unique())"
   ]
  },
  {
   "cell_type": "code",
   "execution_count": 19,
   "metadata": {},
   "outputs": [
    {
     "data": {
      "text/plain": [
       "36"
      ]
     },
     "execution_count": 19,
     "metadata": {},
     "output_type": "execute_result"
    }
   ],
   "source": [
    "len(df['Question'].unique())"
   ]
  },
  {
   "cell_type": "code",
   "execution_count": 20,
   "metadata": {},
   "outputs": [
    {
     "data": {
      "text/plain": [
       "2"
      ]
     },
     "execution_count": 20,
     "metadata": {},
     "output_type": "execute_result"
    }
   ],
   "source": [
    "len(df['Topic'].unique())"
   ]
  },
  {
   "cell_type": "code",
   "execution_count": 29,
   "metadata": {},
   "outputs": [
    {
     "data": {
      "text/html": [
       "<div>\n",
       "<style scoped>\n",
       "    .dataframe tbody tr th:only-of-type {\n",
       "        vertical-align: middle;\n",
       "    }\n",
       "\n",
       "    .dataframe tbody tr th {\n",
       "        vertical-align: top;\n",
       "    }\n",
       "\n",
       "    .dataframe thead th {\n",
       "        text-align: right;\n",
       "    }\n",
       "</style>\n",
       "<table border=\"1\" class=\"dataframe\">\n",
       "  <thead>\n",
       "    <tr style=\"text-align: right;\">\n",
       "      <th></th>\n",
       "      <th>Topic</th>\n",
       "      <th>Question</th>\n",
       "    </tr>\n",
       "  </thead>\n",
       "  <tbody>\n",
       "    <tr>\n",
       "      <th>0</th>\n",
       "      <td>Physics</td>\n",
       "      <td>How thin can a fiber optic be?</td>\n",
       "    </tr>\n",
       "    <tr>\n",
       "      <th>1</th>\n",
       "      <td>Physics</td>\n",
       "      <td>A common application of lasers in medicine is ...</td>\n",
       "    </tr>\n",
       "    <tr>\n",
       "      <th>2</th>\n",
       "      <td>Physics</td>\n",
       "      <td>What is the Strategic Defense Initiative (SDI)...</td>\n",
       "    </tr>\n",
       "    <tr>\n",
       "      <th>3</th>\n",
       "      <td>Physics</td>\n",
       "      <td>In 2014, where did the US Navy test a Laser We...</td>\n",
       "    </tr>\n",
       "    <tr>\n",
       "      <th>4</th>\n",
       "      <td>Physics</td>\n",
       "      <td>Why are lasers cheaper than conventional missi...</td>\n",
       "    </tr>\n",
       "    <tr>\n",
       "      <th>5</th>\n",
       "      <td>Physics</td>\n",
       "      <td>What industry is one of the biggest user of la...</td>\n",
       "    </tr>\n",
       "    <tr>\n",
       "      <th>6</th>\n",
       "      <td>Statistics</td>\n",
       "      <td>Name one potential disadvantage of experiments.</td>\n",
       "    </tr>\n",
       "    <tr>\n",
       "      <th>7</th>\n",
       "      <td>Statistics</td>\n",
       "      <td>What sampling method ensures that every member...</td>\n",
       "    </tr>\n",
       "    <tr>\n",
       "      <th>8</th>\n",
       "      <td>Statistics</td>\n",
       "      <td>Over- or under-representation of some groups i...</td>\n",
       "    </tr>\n",
       "    <tr>\n",
       "      <th>9</th>\n",
       "      <td>Statistics</td>\n",
       "      <td>What kind of bias can be produced by participa...</td>\n",
       "    </tr>\n",
       "    <tr>\n",
       "      <th>10</th>\n",
       "      <td>Statistics</td>\n",
       "      <td>What kind of bias can arise if the researcher ...</td>\n",
       "    </tr>\n",
       "    <tr>\n",
       "      <th>11</th>\n",
       "      <td>Statistics</td>\n",
       "      <td>In this form of sampling, the population is di...</td>\n",
       "    </tr>\n",
       "    <tr>\n",
       "      <th>12</th>\n",
       "      <td>Physics</td>\n",
       "      <td>What type of particles do masers emit?</td>\n",
       "    </tr>\n",
       "    <tr>\n",
       "      <th>13</th>\n",
       "      <td>Physics</td>\n",
       "      <td>What is Gordon Gould's main achievement?</td>\n",
       "    </tr>\n",
       "    <tr>\n",
       "      <th>14</th>\n",
       "      <td>Physics</td>\n",
       "      <td>If the flashlight is like ripples in a bathtub...</td>\n",
       "    </tr>\n",
       "    <tr>\n",
       "      <th>15</th>\n",
       "      <td>Physics</td>\n",
       "      <td>What is the name for light of a very precise w...</td>\n",
       "    </tr>\n",
       "    <tr>\n",
       "      <th>16</th>\n",
       "      <td>Physics</td>\n",
       "      <td>What is \"white\" light made of?</td>\n",
       "    </tr>\n",
       "    <tr>\n",
       "      <th>17</th>\n",
       "      <td>Physics</td>\n",
       "      <td>A light is ___________ when the peaks and trou...</td>\n",
       "    </tr>\n",
       "    <tr>\n",
       "      <th>18</th>\n",
       "      <td>Physics</td>\n",
       "      <td>A ___________ emits light to begin the process...</td>\n",
       "    </tr>\n",
       "    <tr>\n",
       "      <th>19</th>\n",
       "      <td>Physics</td>\n",
       "      <td>What object can serve as a red laser's medium?</td>\n",
       "    </tr>\n",
       "    <tr>\n",
       "      <th>20</th>\n",
       "      <td>Physics</td>\n",
       "      <td>What is the normal state of an electron?</td>\n",
       "    </tr>\n",
       "    <tr>\n",
       "      <th>21</th>\n",
       "      <td>Physics</td>\n",
       "      <td>What are CO2 lasers used for?</td>\n",
       "    </tr>\n",
       "    <tr>\n",
       "      <th>22</th>\n",
       "      <td>Physics</td>\n",
       "      <td>What is the advantage of liquid dye lasers?</td>\n",
       "    </tr>\n",
       "    <tr>\n",
       "      <th>23</th>\n",
       "      <td>Physics</td>\n",
       "      <td>What is the process of replacing solid atoms w...</td>\n",
       "    </tr>\n",
       "    <tr>\n",
       "      <th>24</th>\n",
       "      <td>Statistics</td>\n",
       "      <td>The ___________ is the entire collection of ob...</td>\n",
       "    </tr>\n",
       "    <tr>\n",
       "      <th>25</th>\n",
       "      <td>Statistics</td>\n",
       "      <td>A ___________ is a subset of the population.</td>\n",
       "    </tr>\n",
       "    <tr>\n",
       "      <th>26</th>\n",
       "      <td>Statistics</td>\n",
       "      <td>Name one property of a good sample.</td>\n",
       "    </tr>\n",
       "    <tr>\n",
       "      <th>27</th>\n",
       "      <td>Statistics</td>\n",
       "      <td>Why do researchers use a sample rather than a ...</td>\n",
       "    </tr>\n",
       "    <tr>\n",
       "      <th>28</th>\n",
       "      <td>Statistics</td>\n",
       "      <td>What kind of sampling ensures representative d...</td>\n",
       "    </tr>\n",
       "    <tr>\n",
       "      <th>29</th>\n",
       "      <td>Statistics</td>\n",
       "      <td>Give one example of data collection that invol...</td>\n",
       "    </tr>\n",
       "    <tr>\n",
       "      <th>30</th>\n",
       "      <td>Statistics</td>\n",
       "      <td>What can an experimental study do that an obse...</td>\n",
       "    </tr>\n",
       "    <tr>\n",
       "      <th>31</th>\n",
       "      <td>Statistics</td>\n",
       "      <td>What kind of variables make it difficult to in...</td>\n",
       "    </tr>\n",
       "    <tr>\n",
       "      <th>32</th>\n",
       "      <td>Statistics</td>\n",
       "      <td>What should be done to reduce the chance of un...</td>\n",
       "    </tr>\n",
       "    <tr>\n",
       "      <th>33</th>\n",
       "      <td>Statistics</td>\n",
       "      <td>In ___________ studies you report what's happe...</td>\n",
       "    </tr>\n",
       "    <tr>\n",
       "      <th>34</th>\n",
       "      <td>Statistics</td>\n",
       "      <td>In what kind of studies do researchers manipul...</td>\n",
       "    </tr>\n",
       "    <tr>\n",
       "      <th>35</th>\n",
       "      <td>Statistics</td>\n",
       "      <td>If you want to know whether female crickets ch...</td>\n",
       "    </tr>\n",
       "  </tbody>\n",
       "</table>\n",
       "</div>"
      ],
      "text/plain": [
       "         Topic                                           Question\n",
       "0      Physics                     How thin can a fiber optic be?\n",
       "1      Physics  A common application of lasers in medicine is ...\n",
       "2      Physics  What is the Strategic Defense Initiative (SDI)...\n",
       "3      Physics  In 2014, where did the US Navy test a Laser We...\n",
       "4      Physics  Why are lasers cheaper than conventional missi...\n",
       "5      Physics  What industry is one of the biggest user of la...\n",
       "6   Statistics    Name one potential disadvantage of experiments.\n",
       "7   Statistics  What sampling method ensures that every member...\n",
       "8   Statistics  Over- or under-representation of some groups i...\n",
       "9   Statistics  What kind of bias can be produced by participa...\n",
       "10  Statistics  What kind of bias can arise if the researcher ...\n",
       "11  Statistics  In this form of sampling, the population is di...\n",
       "12     Physics             What type of particles do masers emit?\n",
       "13     Physics           What is Gordon Gould's main achievement?\n",
       "14     Physics  If the flashlight is like ripples in a bathtub...\n",
       "15     Physics  What is the name for light of a very precise w...\n",
       "16     Physics                     What is \"white\" light made of?\n",
       "17     Physics  A light is ___________ when the peaks and trou...\n",
       "18     Physics  A ___________ emits light to begin the process...\n",
       "19     Physics     What object can serve as a red laser's medium?\n",
       "20     Physics           What is the normal state of an electron?\n",
       "21     Physics                      What are CO2 lasers used for?\n",
       "22     Physics        What is the advantage of liquid dye lasers?\n",
       "23     Physics  What is the process of replacing solid atoms w...\n",
       "24  Statistics  The ___________ is the entire collection of ob...\n",
       "25  Statistics      A ___________ is a subset of the population. \n",
       "26  Statistics               Name one property of a good sample. \n",
       "27  Statistics  Why do researchers use a sample rather than a ...\n",
       "28  Statistics  What kind of sampling ensures representative d...\n",
       "29  Statistics  Give one example of data collection that invol...\n",
       "30  Statistics  What can an experimental study do that an obse...\n",
       "31  Statistics  What kind of variables make it difficult to in...\n",
       "32  Statistics  What should be done to reduce the chance of un...\n",
       "33  Statistics  In ___________ studies you report what's happe...\n",
       "34  Statistics  In what kind of studies do researchers manipul...\n",
       "35  Statistics  If you want to know whether female crickets ch..."
      ]
     },
     "execution_count": 29,
     "metadata": {},
     "output_type": "execute_result"
    }
   ],
   "source": [
    "df[['Topic', 'Question']].drop_duplicates().reset_index(drop=True)"
   ]
  },
  {
   "cell_type": "markdown",
   "metadata": {},
   "source": [
    "### Document Distribution"
   ]
  },
  {
   "cell_type": "code",
   "execution_count": null,
   "metadata": {},
   "outputs": [],
   "source": [
    "import matplotlib.pyplot as plt"
   ]
  },
  {
   "cell_type": "markdown",
   "metadata": {},
   "source": [
    "Label=1 means the response is correct. Label=0 means the response is similar to the correct answer but not precise. Label=-1 means the response is incorrect."
   ]
  },
  {
   "cell_type": "code",
   "execution_count": 22,
   "metadata": {},
   "outputs": [
    {
     "data": {
      "text/plain": [
       "label\n",
       " 1    1185\n",
       "-1    1002\n",
       " 0      63\n",
       "Name: count, dtype: int64"
      ]
     },
     "execution_count": 22,
     "metadata": {},
     "output_type": "execute_result"
    }
   ],
   "source": [
    "df['label'].value_counts()"
   ]
  },
  {
   "cell_type": "markdown",
   "metadata": {},
   "source": [
    "### Ideas"
   ]
  },
  {
   "cell_type": "markdown",
   "metadata": {},
   "source": []
  }
 ],
 "metadata": {
  "kernelspec": {
   "display_name": "nlp_env",
   "language": "python",
   "name": "python3"
  },
  "language_info": {
   "codemirror_mode": {
    "name": "ipython",
    "version": 3
   },
   "file_extension": ".py",
   "mimetype": "text/x-python",
   "name": "python",
   "nbconvert_exporter": "python",
   "pygments_lexer": "ipython3",
   "version": "3.10.16"
  }
 },
 "nbformat": 4,
 "nbformat_minor": 2
}
